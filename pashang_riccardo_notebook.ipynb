{
 "cells": [
  {
   "cell_type": "markdown",
   "metadata": {},
   "source": [
    "## Packages import and data upload"
   ]
  },
  {
   "cell_type": "code",
   "execution_count": 1,
   "metadata": {},
   "outputs": [],
   "source": [
    "import numpy as np\n",
    "import pandas as pd\n",
    "pd.set_option('mode.chained_assignment', None)\n",
    "import matplotlib.pyplot as plt\n",
    "import seaborn as sns\n",
    "import pickle\n",
    "from sklearn.neural_network import MLPRegressor\n",
    "from sklearn.linear_model import ElasticNet\n",
    "from sklearn.feature_extraction import text\n",
    "from sklearn.linear_model import LassoCV  \n",
    "from sklearn.feature_extraction.text import TfidfVectorizer\n",
    "from sklearn.cluster import KMeans\n",
    "from nltk.tokenize import word_tokenize\n",
    "from nltk.stem.snowball import SnowballStemmer\n",
    "from nltk.stem import PorterStemmer, LancasterStemmer, WordNetLemmatizer\n",
    "from sklearn.cluster import KMeans\n",
    "from sklearn import datasets\n",
    "from sklearn.model_selection import train_test_split"
   ]
  },
  {
   "cell_type": "code",
   "execution_count": 2,
   "metadata": {},
   "outputs": [
    {
     "data": {
      "text/html": [
       "<div>\n",
       "<style scoped>\n",
       "    .dataframe tbody tr th:only-of-type {\n",
       "        vertical-align: middle;\n",
       "    }\n",
       "\n",
       "    .dataframe tbody tr th {\n",
       "        vertical-align: top;\n",
       "    }\n",
       "\n",
       "    .dataframe thead th {\n",
       "        text-align: right;\n",
       "    }\n",
       "</style>\n",
       "<table border=\"1\" class=\"dataframe\">\n",
       "  <thead>\n",
       "    <tr style=\"text-align: right;\">\n",
       "      <th></th>\n",
       "      <th>title</th>\n",
       "      <th>variety</th>\n",
       "      <th>designation</th>\n",
       "      <th>country</th>\n",
       "      <th>province</th>\n",
       "      <th>description</th>\n",
       "      <th>price</th>\n",
       "      <th>winery</th>\n",
       "      <th>taster_name</th>\n",
       "      <th>points</th>\n",
       "    </tr>\n",
       "  </thead>\n",
       "  <tbody>\n",
       "    <tr>\n",
       "      <th>0</th>\n",
       "      <td>Nicosia 2013 Vulkà Bianco  (Etna)</td>\n",
       "      <td>White Blend</td>\n",
       "      <td>Vulkà Bianco</td>\n",
       "      <td>Italy</td>\n",
       "      <td>Sicily &amp; Sardinia</td>\n",
       "      <td>Aromas include tropical fruit, broom, brimston...</td>\n",
       "      <td>NaN</td>\n",
       "      <td>Nicosia</td>\n",
       "      <td>Kerin O’Keefe</td>\n",
       "      <td>87</td>\n",
       "    </tr>\n",
       "    <tr>\n",
       "      <th>1</th>\n",
       "      <td>Quinta dos Avidagos 2011 Avidagos Red (Douro)</td>\n",
       "      <td>Portuguese Red</td>\n",
       "      <td>Avidagos</td>\n",
       "      <td>Portugal</td>\n",
       "      <td>Douro</td>\n",
       "      <td>This is ripe and fruity, a wine that is smooth...</td>\n",
       "      <td>15.0</td>\n",
       "      <td>Quinta dos Avidagos</td>\n",
       "      <td>Roger Voss</td>\n",
       "      <td>87</td>\n",
       "    </tr>\n",
       "    <tr>\n",
       "      <th>2</th>\n",
       "      <td>Rainstorm 2013 Pinot Gris (Willamette Valley)</td>\n",
       "      <td>Pinot Gris</td>\n",
       "      <td>NaN</td>\n",
       "      <td>US</td>\n",
       "      <td>Oregon</td>\n",
       "      <td>Tart and snappy, the flavors of lime flesh and...</td>\n",
       "      <td>14.0</td>\n",
       "      <td>Rainstorm</td>\n",
       "      <td>Paul Gregutt</td>\n",
       "      <td>87</td>\n",
       "    </tr>\n",
       "    <tr>\n",
       "      <th>3</th>\n",
       "      <td>St. Julian 2013 Reserve Late Harvest Riesling ...</td>\n",
       "      <td>Riesling</td>\n",
       "      <td>Reserve Late Harvest</td>\n",
       "      <td>US</td>\n",
       "      <td>Michigan</td>\n",
       "      <td>Pineapple rind, lemon pith and orange blossom ...</td>\n",
       "      <td>13.0</td>\n",
       "      <td>St. Julian</td>\n",
       "      <td>Alexander Peartree</td>\n",
       "      <td>87</td>\n",
       "    </tr>\n",
       "    <tr>\n",
       "      <th>4</th>\n",
       "      <td>Sweet Cheeks 2012 Vintner's Reserve Wild Child...</td>\n",
       "      <td>Pinot Noir</td>\n",
       "      <td>Vintner's Reserve Wild Child Block</td>\n",
       "      <td>US</td>\n",
       "      <td>Oregon</td>\n",
       "      <td>Much like the regular bottling from 2012, this...</td>\n",
       "      <td>65.0</td>\n",
       "      <td>Sweet Cheeks</td>\n",
       "      <td>Paul Gregutt</td>\n",
       "      <td>87</td>\n",
       "    </tr>\n",
       "  </tbody>\n",
       "</table>\n",
       "</div>"
      ],
      "text/plain": [
       "                                               title         variety  \\\n",
       "0                  Nicosia 2013 Vulkà Bianco  (Etna)     White Blend   \n",
       "1      Quinta dos Avidagos 2011 Avidagos Red (Douro)  Portuguese Red   \n",
       "2      Rainstorm 2013 Pinot Gris (Willamette Valley)      Pinot Gris   \n",
       "3  St. Julian 2013 Reserve Late Harvest Riesling ...        Riesling   \n",
       "4  Sweet Cheeks 2012 Vintner's Reserve Wild Child...      Pinot Noir   \n",
       "\n",
       "                          designation   country           province  \\\n",
       "0                        Vulkà Bianco     Italy  Sicily & Sardinia   \n",
       "1                            Avidagos  Portugal              Douro   \n",
       "2                                 NaN        US             Oregon   \n",
       "3                Reserve Late Harvest        US           Michigan   \n",
       "4  Vintner's Reserve Wild Child Block        US             Oregon   \n",
       "\n",
       "                                         description  price  \\\n",
       "0  Aromas include tropical fruit, broom, brimston...    NaN   \n",
       "1  This is ripe and fruity, a wine that is smooth...   15.0   \n",
       "2  Tart and snappy, the flavors of lime flesh and...   14.0   \n",
       "3  Pineapple rind, lemon pith and orange blossom ...   13.0   \n",
       "4  Much like the regular bottling from 2012, this...   65.0   \n",
       "\n",
       "                winery         taster_name  points  \n",
       "0              Nicosia       Kerin O’Keefe      87  \n",
       "1  Quinta dos Avidagos          Roger Voss      87  \n",
       "2            Rainstorm        Paul Gregutt      87  \n",
       "3           St. Julian  Alexander Peartree      87  \n",
       "4         Sweet Cheeks        Paul Gregutt      87  "
      ]
     },
     "execution_count": 2,
     "metadata": {},
     "output_type": "execute_result"
    }
   ],
   "source": [
    "df = pd.read_csv('assignment_dataset.csv')\n",
    "df_2 = pd.read_csv('additional_wine_data.csv', encoding='latin-1')\n",
    "df.head()"
   ]
  },
  {
   "cell_type": "markdown",
   "metadata": {},
   "source": [
    "# <center>QUESTION 1</center>\n",
    "### Some winemakers have asked you to buy their wines, which are new products not present in your list. How would you exploit the data you have to estimate the best price to buy them? "
   ]
  },
  {
   "cell_type": "markdown",
   "metadata": {},
   "source": [
    "## Preliminar alalysis on numerical fields"
   ]
  },
  {
   "cell_type": "code",
   "execution_count": 3,
   "metadata": {},
   "outputs": [
    {
     "data": {
      "text/plain": [
       "3951"
      ]
     },
     "execution_count": 3,
     "metadata": {},
     "output_type": "execute_result"
    }
   ],
   "source": [
    "# the most part of the wines costs less than 100$ (=107808)\n",
    "len(df[df['price'] >= 100])"
   ]
  },
  {
   "cell_type": "code",
   "execution_count": 4,
   "metadata": {},
   "outputs": [
    {
     "data": {
      "text/plain": [
       "<seaborn.axisgrid.JointGrid at 0x1a1faf7b10>"
      ]
     },
     "execution_count": 4,
     "metadata": {},
     "output_type": "execute_result"
    },
    {
     "data": {
      "image/png": "[encoded data removed]",
      "text/plain": [
       "<Figure size 432x432 with 3 Axes>"
      ]
     },
     "metadata": {
      "needs_background": "light"
     },
     "output_type": "display_data"
    }
   ],
   "source": [
    "# first of all let's inspect the distribution of the two numerical field (restricted to the most common wines)\n",
    "\"\"\" This distribution shows that there is not a clear relationship between price and points.\n",
    "    The only thing that we can argue is that when the points are low (i.e. 80-83), then the \n",
    "    price distribution is more confined. \"\"\"\n",
    "\n",
    "sns.jointplot(x='price', y='points', data=df[['price', 'points']][df['price']<100], kind='kde')"
   ]
  },
  {
   "cell_type": "code",
   "execution_count": 5,
   "metadata": {},
   "outputs": [
    {
     "data": {
      "text/plain": [
       "<matplotlib.collections.PathCollection at 0x1a1fc75810>"
      ]
     },
     "execution_count": 5,
     "metadata": {},
     "output_type": "execute_result"
    },
    {
     "data": {
      "image/png": "[encoded data removed]",
      "text/plain": [
       "<Figure size 432x288 with 1 Axes>"
      ]
     },
     "metadata": {
      "needs_background": "light"
     },
     "output_type": "display_data"
    }
   ],
   "source": [
    "# the complete raw scatterplot shows this from another point of view\n",
    "plt.scatter(df.price, df.points)"
   ]
  },
  {
   "cell_type": "code",
   "execution_count": 6,
   "metadata": {},
   "outputs": [
    {
     "data": {
      "text/plain": [
       "<seaborn.axisgrid.JointGrid at 0x1a206edbd0>"
      ]
     },
     "execution_count": 6,
     "metadata": {},
     "output_type": "execute_result"
    },
    {
     "data": {
      "image/png": "[encoded data removed]",
      "text/plain": [
       "<Figure size 432x432 with 3 Axes>"
      ]
     },
     "metadata": {
      "needs_background": "light"
     },
     "output_type": "display_data"
    }
   ],
   "source": [
    "# let's log-transform the price variable and see what happen to the scatterplot\n",
    "df['log_price'] = np.log(df.price)\n",
    "sns.jointplot(x='log_price', y='points', data=df[['log_price', 'points']], kind='kde')"
   ]
  },
  {
   "cell_type": "markdown",
   "metadata": {},
   "source": [
    "### The distribution looks more like a bivariate normal, so I'm gonna use the log-price as target field for the regression model."
   ]
  },
  {
   "cell_type": "markdown",
   "metadata": {},
   "source": [
    "## Data preprocessing"
   ]
  },
  {
   "cell_type": "code",
   "execution_count": 7,
   "metadata": {},
   "outputs": [],
   "source": [
    "# -- Some cleaning --\n",
    "\n",
    "# lowercase every string column\n",
    "for col in df.columns:\n",
    "    if (col != 'price') & (col != 'points') & (col != 'log_price'):\n",
    "        df[col] = df[col].str.lower()\n",
    "\n",
    "# drop duplicated rows (they would compromise the K-NN method)\n",
    "df = df.drop_duplicates()\n",
    "\n",
    "# drop rows where 'price' is NaN, since price is the target variable\n",
    "df.dropna(subset=['price'], inplace=True)"
   ]
  },
  {
   "cell_type": "code",
   "execution_count": 8,
   "metadata": {},
   "outputs": [
    {
     "name": "stdout",
     "output_type": "stream",
     "text": [
      "Column \"title\" has 110630 distinct values.\n",
      "\n",
      "Column \"variety\" has 698 distinct values.\n",
      "\n",
      "Column \"designation\" has 35540 distinct values.\n",
      "\n",
      "Column \"country\" has 43 distinct values.\n",
      "\n",
      "Column \"province\" has 423 distinct values.\n",
      "\n",
      "Column \"description\" has 111567 distinct values.\n",
      "\n",
      "Column \"price\" has 390 distinct values.\n",
      "\n",
      "Column \"winery\" has 15832 distinct values.\n",
      "\n",
      "Column \"taster_name\" has 20 distinct values.\n",
      "\n",
      "Column \"points\" has 21 distinct values.\n",
      "\n",
      "Column \"log_price\" has 390 distinct values.\n",
      "\n"
     ]
    }
   ],
   "source": [
    "# show unique values for every column\n",
    "for col in df.columns:\n",
    "    print('Column \"{}\" has {} distinct values.\\n'.format(col, len(df[col].unique())))"
   ]
  },
  {
   "cell_type": "code",
   "execution_count": 9,
   "metadata": {},
   "outputs": [],
   "source": [
    "# feature selection \n",
    "\"\"\" title has too many distinct values. Also, title gives the same info of year, designation and winery combined.\n",
    "    So I am going to use only year, country, province, taster_name, point and description cluster as \n",
    "    predictors for the regression model. Also, I add a column 'variety_type' by\n",
    "    joining df with an additional dataframe df_2\"\"\"\n",
    "\n",
    "# extract year from title\n",
    "df['year'] = df.title.str.extract(r'(19\\d{2}|2\\d{3})')\n",
    "# fill empty years with median value\n",
    "df['year'] = df['year'].fillna(df['year'].median())\n",
    "# round year to the closest decade\n",
    "df['year'] = np.round(df['year'].astype(float)/10,0) * 10\n",
    "df['year'] = df['year'].astype(int)\n",
    "\n",
    "df_2 = df_2[['Varietal_Name', 'Varietal_WineType_Name']]\n",
    "df_2['Varietal_Name'] = df_2['Varietal_Name'].str.lower()\n",
    "df_2['Varietal_WineType_Name'] = df_2['Varietal_WineType_Name'].str.lower()\n",
    "df_2 = df_2.drop_duplicates()\n",
    "\n",
    "df_3 = pd.merge(df, df_2, how='left', left_on=['variety'], right_on=['Varietal_Name'])\n",
    "df_3 = df_3.drop(['Varietal_Name'], axis=1)\n",
    "df_3['Varietal_WineType_Name'] = df_3['Varietal_WineType_Name'].fillna('other')\n",
    "df = df_3 "
   ]
  },
  {
   "cell_type": "markdown",
   "metadata": {},
   "source": [
    "## NLP section\n",
    "### Vectorization of the 'description' columns is implemented, after tokenization and stemming/lemmatization. The resulting numerical description is used to further implement a clustering for the comments."
   ]
  },
  {
   "cell_type": "code",
   "execution_count": 10,
   "metadata": {},
   "outputs": [],
   "source": [
    "# stemmer and lemming object\n",
    "porter = PorterStemmer()\n",
    "lancaster = LancasterStemmer()\n",
    "lemm = WordNetLemmatizer()\n",
    "punc = ['.', ',', '\"', \"'\", '?', '!', ':', ';', '(', ')', '[', ']', '{', '}',\"%\"]\n",
    "stop_words = text.ENGLISH_STOP_WORDS.union(punc)"
   ]
  },
  {
   "cell_type": "code",
   "execution_count": 11,
   "metadata": {},
   "outputs": [],
   "source": [
    "# cleaning function\n",
    "def cleanSentence(sentence):\n",
    "    # tokenize\n",
    "    token_words = word_tokenize(sentence)\n",
    "    # remove punctuation and stop words\n",
    "    filtered_sentence = [w for w in token_words if not w in stop_words]\n",
    "    stem_sentence = []\n",
    "    for word in filtered_sentence:\n",
    "        # stemming\n",
    "        word = lancaster.stem(word)\n",
    "        # lemmatize\n",
    "        word = lemm.lemmatize(word, pos='v')\n",
    "        stem_sentence.append(word)\n",
    "        stem_sentence.append(\" \")\n",
    "    return \"\".join(stem_sentence)"
   ]
  },
  {
   "cell_type": "code",
   "execution_count": 12,
   "metadata": {},
   "outputs": [],
   "source": [
    "# apply the custom function to every row\n",
    "df['description_new'] = df['description'].apply(lambda x: cleanSentence(x))"
   ]
  },
  {
   "cell_type": "code",
   "execution_count": 13,
   "metadata": {},
   "outputs": [
    {
     "data": {
      "text/plain": [
       "(111593, 21601)"
      ]
     },
     "execution_count": 13,
     "metadata": {},
     "output_type": "execute_result"
    }
   ],
   "source": [
    "# vectorize the text with the TF-IDF approach\n",
    "d = df['description_new'].values\n",
    "vectorizer = TfidfVectorizer()\n",
    "X = vectorizer.fit_transform(d)\n",
    "X.shape"
   ]
  },
  {
   "cell_type": "markdown",
   "metadata": {},
   "source": [
    "### Clustering of the comments"
   ]
  },
  {
   "cell_type": "code",
   "execution_count": 14,
   "metadata": {},
   "outputs": [],
   "source": [
    "# ---------- !!!!!!!!!!!!!!!! ---------------------\n",
    "# RUN THIS TO SKIP THE COMPUTATION OF THE NEXT CELL\n",
    "distortions = pickle.load(open('distor.p', 'rb'))\n",
    "K = range(1,14)"
   ]
  },
  {
   "cell_type": "code",
   "execution_count": 307,
   "metadata": {},
   "outputs": [],
   "source": [
    "\"\"\"\n",
    "# k-means elbow method for k selection (over-night computation)\n",
    "# (based on sum of squared distances of samples to their closest cluster center)\n",
    "distortions = []\n",
    "K = range(1,14)\n",
    "for k in K:\n",
    "    km = KMeans(n_clusters = k)\n",
    "    km.fit(X)\n",
    "    distortions.append(km.inertia_)\n",
    "\"\"\""
   ]
  },
  {
   "cell_type": "code",
   "execution_count": 15,
   "metadata": {},
   "outputs": [
    {
     "data": {
      "image/png": "[encoded data removed]",
      "text/plain": [
       "<Figure size 1152x576 with 1 Axes>"
      ]
     },
     "metadata": {
      "needs_background": "light"
     },
     "output_type": "display_data"
    }
   ],
   "source": [
    "# plot k-means elbow method\n",
    "plt.figure(figsize=(16,8))\n",
    "plt.plot(K, distortions, 'bx-')\n",
    "plt.xlabel('k')\n",
    "plt.ylabel('Distortion')\n",
    "plt.title('Elbow Method: the optimal k is 3')\n",
    "plt.show()"
   ]
  },
  {
   "cell_type": "code",
   "execution_count": 16,
   "metadata": {},
   "outputs": [],
   "source": [
    "# ---------------- !!!!!!!!!!!!!!! ----------------\n",
    "# RUN THIS TO SKIP THE COMPUTATION OF THE NEXT CELL\n",
    "model_km = pickle.load(open('model_km.p', 'rb'))"
   ]
  },
  {
   "cell_type": "code",
   "execution_count": 15,
   "metadata": {},
   "outputs": [
    {
     "data": {
      "text/plain": [
       "KMeans(algorithm='auto', copy_x=True, init='k-means++', max_iter=300,\n",
       "       n_clusters=3, n_init=10, n_jobs=None, precompute_distances='auto',\n",
       "       random_state=None, tol=0.0001, verbose=0)"
      ]
     },
     "execution_count": 15,
     "metadata": {},
     "output_type": "execute_result"
    }
   ],
   "source": [
    "\"\"\"\n",
    "# best k = 3\n",
    "best_k = 3\n",
    "model_km = KMeans(n_clusters=best_k)\n",
    "model_km.fit(X)\n",
    "\"\"\""
   ]
  },
  {
   "cell_type": "code",
   "execution_count": 17,
   "metadata": {},
   "outputs": [],
   "source": [
    "# place every 'description' to its cluster\n",
    "df['desc_cluster'] = model_km.labels_"
   ]
  },
  {
   "cell_type": "markdown",
   "metadata": {},
   "source": [
    "## Regression model (Lasso model) "
   ]
  },
  {
   "cell_type": "code",
   "execution_count": 18,
   "metadata": {},
   "outputs": [],
   "source": [
    "# avoid the dummy variable trap (consider k-1 varibles)\n",
    "regressors = pd.concat([pd.get_dummies(df.year, prefix='year').iloc[:,:-1],\n",
    "                        df.points,\n",
    "                        pd.get_dummies(df.variety, prefix='var').iloc[:,:-1],\n",
    "                        pd.get_dummies(df.Varietal_WineType_Name, prefix='typvar').iloc[:,:-1],  \n",
    "                        pd.get_dummies(df.country, prefix='country').iloc[:,:-1],\n",
    "                        pd.get_dummies(df.province, prefix='prov').iloc[:,:-1],\n",
    "                        pd.get_dummies(df.taster_name, prefix='taster').iloc[:,:-1],\n",
    "                        pd.get_dummies(df.desc_cluster, prefix='clust').iloc[:,:-1]\n",
    "                       ], axis = 1) "
   ]
  },
  {
   "cell_type": "code",
   "execution_count": 19,
   "metadata": {},
   "outputs": [],
   "source": [
    "# split dataset in training and test sets\n",
    "X_train, X_test, y_train, y_test = train_test_split(regressors,   \n",
    "                                                    df[\"log_price\"],   \n",
    "                                                    test_size=0.30, \n",
    "                                                    random_state=0)"
   ]
  },
  {
   "cell_type": "code",
   "execution_count": 20,
   "metadata": {},
   "outputs": [],
   "source": [
    "# -------------- !!!!!!!!!!!!!!!! -----------------\n",
    "# RUN THIS TO SKIP THE COMPUTATION OF THE NEXT CELL\n",
    "lasso = pickle.load(open('model_lasso_cv.p', 'rb'))"
   ]
  },
  {
   "cell_type": "code",
   "execution_count": 406,
   "metadata": {},
   "outputs": [],
   "source": [
    "\"\"\"\n",
    "# Lasso linear model \n",
    "lasso = LassoCV(cv=10, precompute=True, normalize=True, n_jobs=-1).fit(X_train, y_train) \n",
    "\"\"\""
   ]
  },
  {
   "cell_type": "code",
   "execution_count": 21,
   "metadata": {},
   "outputs": [
    {
     "data": {
      "text/plain": [
       "[Text(0.5, 0, 'Lasso Regression Coefficients')]"
      ]
     },
     "execution_count": 21,
     "metadata": {},
     "output_type": "execute_result"
    },
    {
     "data": {
      "image/png": "[encoded data removed]",
      "text/plain": [
       "<Figure size 1152x1080 with 1 Axes>"
      ]
     },
     "metadata": {
      "needs_background": "light"
     },
     "output_type": "display_data"
    }
   ],
   "source": [
    "\"\"\" This barplot shows the largest coefficients of the fit in absolute value. Consistently with the common sense, \n",
    "    old wine should cost generally more, indeed some of these large positive coefficients\n",
    "    are related to the decades 1940, 1950 and so on. On the contrary large negative coefficients are mostly\n",
    "    related to regions not so popular for wine production. \"\"\"\n",
    "\n",
    "coef_df = pd.DataFrame(np.round_(lasso.coef_, decimals=3), \n",
    "                       regressors.columns, \n",
    "                       columns = [\"lasso_coef\"])  \n",
    "\n",
    "# remove not-to-large coefficients for a better visualization\n",
    "lasso_coef = coef_df[np.abs(coef_df['lasso_coef']) > 0.5]  \n",
    "# sort the values from high to low  \n",
    "lasso_coef = lasso_coef.sort_values(by='lasso_coef', ascending=False)  \n",
    "\n",
    "# plot the sorted dataframe  \n",
    "plt.figure(figsize=(16, 15))\n",
    "ax = sns.barplot(x='lasso_coef', y=lasso_coef.index, data=lasso_coef)  \n",
    "ax.set(xlabel='Lasso Regression Coefficients')  "
   ]
  },
  {
   "cell_type": "markdown",
   "metadata": {},
   "source": [
    "### Model performance"
   ]
  },
  {
   "cell_type": "code",
   "execution_count": 22,
   "metadata": {},
   "outputs": [
    {
     "name": "stdout",
     "output_type": "stream",
     "text": [
      "Test MSE = 0.19091\n",
      "\n",
      "Train MSE = 0.18584\n"
     ]
    }
   ],
   "source": [
    "# estimate error on training and test set (on log scale)\n",
    "estim_te = lasso.predict(X_test)\n",
    "estim_tr = lasso.predict(X_train)\n",
    "\n",
    "e_vec_te = estim_te - y_test\n",
    "e_te = np.dot(e_vec_te, e_vec_te) / len(e_vec_te)\n",
    "print('Test MSE = {}\\n'.format(np.round(e_te, 5)))\n",
    "\n",
    "e_vec_tr = estim_tr - y_train\n",
    "e_tr = np.dot(e_vec_tr, e_vec_tr) / len(e_vec_tr)\n",
    "print('Train MSE = {}'.format(np.round(e_tr, 5)))"
   ]
  },
  {
   "cell_type": "markdown",
   "metadata": {},
   "source": [
    "## Feedforward NN\n",
    "### Trying to improve the previous performance of the Lasso Linear Regression model using a naive FNN with only one hidden layer and 100 ReLU hidden neurons"
   ]
  },
  {
   "cell_type": "code",
   "execution_count": 23,
   "metadata": {},
   "outputs": [],
   "source": [
    "FNN = MLPRegressor()"
   ]
  },
  {
   "cell_type": "code",
   "execution_count": 24,
   "metadata": {},
   "outputs": [],
   "source": [
    "# -------------- !!!!!!!!!!!!!!!! -----------------\n",
    "# RUN THIS TO SKIP THE COMPUTATION OF THE NEXT CELL\n",
    "FNN = pickle.load(open('fnn.p', 'rb'))"
   ]
  },
  {
   "cell_type": "code",
   "execution_count": 375,
   "metadata": {},
   "outputs": [
    {
     "data": {
      "text/plain": [
       "MLPRegressor(activation='relu', alpha=0.0001, batch_size='auto', beta_1=0.9,\n",
       "             beta_2=0.999, early_stopping=False, epsilon=1e-08,\n",
       "             hidden_layer_sizes=(100,), learning_rate='constant',\n",
       "             learning_rate_init=0.001, max_fun=15000, max_iter=200,\n",
       "             momentum=0.9, n_iter_no_change=10, nesterovs_momentum=True,\n",
       "             power_t=0.5, random_state=None, shuffle=True, solver='adam',\n",
       "             tol=0.0001, validation_fraction=0.1, verbose=False,\n",
       "             warm_start=False)"
      ]
     },
     "execution_count": 375,
     "metadata": {},
     "output_type": "execute_result"
    }
   ],
   "source": [
    "# FNN.fit(X_train, y_train)"
   ]
  },
  {
   "cell_type": "code",
   "execution_count": 25,
   "metadata": {},
   "outputs": [
    {
     "name": "stdout",
     "output_type": "stream",
     "text": [
      "Test MSE = 0.17625\n",
      "\n",
      "Train MSE = 0.16192\n"
     ]
    }
   ],
   "source": [
    "# FNN performance\n",
    "est_fnn_tr = FNN.predict(X_train)\n",
    "est_fnn_te = FNN.predict(X_test)\n",
    "\n",
    "e_v_fnn_te = est_fnn_te - y_test\n",
    "e_fnn_te = np.dot(e_v_fnn_te, e_v_fnn_te) / len(e_v_fnn_te)\n",
    "print('Test MSE = {}\\n'.format(np.round(e_fnn_te, 5)))\n",
    "\n",
    "e_v_fnn_tr = est_fnn_tr - y_train\n",
    "e_fnn_tr = np.dot(e_v_fnn_tr, e_v_fnn_tr) / len(e_v_fnn_tr)\n",
    "print('Train MSE = {}'.format(np.round(e_fnn_tr, 5)))"
   ]
  },
  {
   "cell_type": "markdown",
   "metadata": {},
   "source": [
    "### This shows a relevant improvment with respect to the Lasso Linear Model. The big advantage of a NN approach is that such nets are able to model nonlinearities in the data, in this case using ReLU activations. This result can be definitely improved even more by using a deeper net and adjusting the hyperparameters with a validation set.\n",
    "### -----------------------------------------------------------------------------------------------------------------------------"
   ]
  },
  {
   "cell_type": "markdown",
   "metadata": {},
   "source": [
    "### From a web research I found out that the average gap between producer price and retail price is about 50%. This means that a wine bottle purchased at 33€ from a winemaker has a suggested retail price of 50€. \n",
    "### So, in order to estimate the best price to buy a not-listed new wine, one can use the predict method of the 'lasso2' object or the FNN object, which gives an estimation $x$ of the retail sell price. So a proper purchasing price could be $\\frac{2}{3}x$."
   ]
  },
  {
   "cell_type": "markdown",
   "metadata": {},
   "source": [
    "# --------------------------------------------------------------------------------------\n",
    "# --------------------------------------------------------------------------------------"
   ]
  },
  {
   "cell_type": "markdown",
   "metadata": {},
   "source": [
    "# <center>QUESTION 2</center>\n",
    "### Since you will have customers from different countries, you want to create a wine list that presents wines from different parts of the world. How could you identify which areas are similar for production? Select the best wines from such areas to create the best wine list."
   ]
  },
  {
   "cell_type": "code",
   "execution_count": null,
   "metadata": {},
   "outputs": [],
   "source": [
    "\"\"\" I opted to select 'variety', 'country' and 'province' as backbone of the selection process.\n",
    "    This means that every possible combination (with some exceptions) of these 3 variables \n",
    "    will have at least one wine representant in the list. The adopted procedure to select the best \n",
    "    representants wines for any possible class is based on the points and price of the related wines. \n",
    "    This procedure will ensure that any possible region (again, with some exceptions) will have\n",
    "    at least a representant, so any possible tourist/costumer can potentially find a bottle produced in his own\n",
    "    native country, and hopefully also the variety he loves the most. \n",
    "    The list is created following these two criteria: \n",
    "    1) a high points/price ratio, \n",
    "    2) the price distribution should be uniform\n",
    "    Point 2) ensure that a wealthy costumer can potentially find a proper 'not-so-cheap' bottle.\n",
    "    \n",
    "    There are about 4'000 classes and 111'000 samples. This means an average of 27 wines for any class.\n",
    "    These 27 wines are in general not distinct, since multiple tasters can evaluate the same wine, \n",
    "    resulting in multiple points and descriptions. For this an aggreation will be performed in order\n",
    "    to average the points of multiple tasters on the same title.\n",
    "    \n",
    "    If a class has not 'good' wines (e.g. there not exists an acceptable points/price ratio), \n",
    "    then no bottles will be associated to that class.\n",
    "    \n",
    "    Our winery will be awesome, our mission is to satisfy every possible customer,\n",
    "    for this reason there will be a respectable number of bottles, let's say about 5000.\n",
    "    \"\"\""
   ]
  },
  {
   "cell_type": "code",
   "execution_count": 26,
   "metadata": {},
   "outputs": [],
   "source": [
    "# aggregate the points for a bottle of multiple tasters (fillna, otherwise some rows would be dropped)\n",
    "df = df.fillna('unknown').groupby(['title', 'variety', 'designation', 'country', 'province',\n",
    "                                   'price', 'winery'], as_index=False)\\\n",
    "       .agg({'points':'mean'})"
   ]
  },
  {
   "cell_type": "markdown",
   "metadata": {},
   "source": [
    "### We ignore the 10% of all that bottle that have the lowest points/price ratio"
   ]
  },
  {
   "cell_type": "code",
   "execution_count": 27,
   "metadata": {},
   "outputs": [
    {
     "data": {
      "text/plain": [
       "Text(0, 0.95, '1.4')"
      ]
     },
     "execution_count": 27,
     "metadata": {},
     "output_type": "execute_result"
    },
    {
     "data": {
      "image/png": "[encoded data removed]",
      "text/plain": [
       "<Figure size 1152x504 with 2 Axes>"
      ]
     },
     "metadata": {
      "needs_background": "light"
     },
     "output_type": "display_data"
    }
   ],
   "source": [
    "# estimate the average points/price ratio distribution\n",
    "df['pp_ratio'] = df['points']/df['price']\n",
    "perc = 10\n",
    "p_value = np.percentile(df['pp_ratio'], q=perc)\n",
    "\n",
    "kwargs = {'cumulative': True}\n",
    "plt.figure(figsize=(16,7))\n",
    "plt.subplot(1,2,1)\n",
    "plt.title('Empirical Distribution Function of ratio between points and price')\n",
    "plt.axvline(p_value, c='r', linestyle='--')\n",
    "sns.distplot(df['pp_ratio'])\n",
    "plt.text(s=str(p_value), y=0.23, x=0, c='r')\n",
    "plt.subplot(1,2,2)\n",
    "plt.title('ECDF of ratio between points and price')\n",
    "sns.distplot(df['pp_ratio'], hist_kws=kwargs, kde_kws=kwargs)\n",
    "plt.axvline(p_value, c='r', linestyle='--')\n",
    "plt.axhline(perc/100, c='r', linestyle='--')\n",
    "plt.text(s=str(p_value), y=0.95, x=0, c='r')"
   ]
  },
  {
   "cell_type": "code",
   "execution_count": 28,
   "metadata": {},
   "outputs": [],
   "source": [
    "# remove low pp_ratio\n",
    "df_filt = df[df['pp_ratio'] > p_value]"
   ]
  },
  {
   "cell_type": "code",
   "execution_count": 29,
   "metadata": {},
   "outputs": [],
   "source": [
    "# sort the dataframe in order to add a column which ranks the pp_ratio and the price and a column\n",
    "# which count the numerosity of the class the bottle belongs to\n",
    "\n",
    "df_filt['rank_ratio'] = df_filt.sort_values(by=['country','province', 'variety', 'pp_ratio', 'price'],\n",
    "                                      ascending=[True, True, True, False, True])\\\n",
    "                               .groupby(['country','province', 'variety'])\\\n",
    "                               .cumcount() + 1\n",
    "\n",
    "df_filt['rank_price'] = df_filt.sort_values(by=['country','province', 'variety', 'price', 'pp_ratio'],\n",
    "                                      ascending=[True, True, True, False, True])\\\n",
    "                               .groupby(['country','province', 'variety'])\\\n",
    "                               .cumcount() + 1\n",
    "\n",
    "df_agg = df_filt.groupby(['country','province', 'variety']).size().reset_index(name='counts')\n",
    "df_agg['class'] = df_agg.index\n",
    "\n",
    "# add counts column by left-joining\n",
    "df_filt2 = pd.merge(df_filt, df_agg, how='left', on=['country','province', 'variety'])"
   ]
  },
  {
   "cell_type": "code",
   "execution_count": 30,
   "metadata": {},
   "outputs": [
    {
     "data": {
      "text/html": [
       "<div>\n",
       "<style scoped>\n",
       "    .dataframe tbody tr th:only-of-type {\n",
       "        vertical-align: middle;\n",
       "    }\n",
       "\n",
       "    .dataframe tbody tr th {\n",
       "        vertical-align: top;\n",
       "    }\n",
       "\n",
       "    .dataframe thead th {\n",
       "        text-align: right;\n",
       "    }\n",
       "</style>\n",
       "<table border=\"1\" class=\"dataframe\">\n",
       "  <thead>\n",
       "    <tr style=\"text-align: right;\">\n",
       "      <th></th>\n",
       "      <th>title</th>\n",
       "      <th>variety</th>\n",
       "      <th>designation</th>\n",
       "      <th>country</th>\n",
       "      <th>province</th>\n",
       "      <th>price</th>\n",
       "      <th>winery</th>\n",
       "      <th>points</th>\n",
       "      <th>pp_ratio</th>\n",
       "      <th>rank_ratio</th>\n",
       "      <th>rank_price</th>\n",
       "      <th>counts</th>\n",
       "      <th>class</th>\n",
       "    </tr>\n",
       "  </thead>\n",
       "  <tbody>\n",
       "    <tr>\n",
       "      <th>35885</th>\n",
       "      <td>espiritu de argentina 2008 bonarda (mendoza)</td>\n",
       "      <td>bonarda</td>\n",
       "      <td>unknown</td>\n",
       "      <td>argentina</td>\n",
       "      <td>mendoza province</td>\n",
       "      <td>9.0</td>\n",
       "      <td>espiritu de argentina</td>\n",
       "      <td>87.0</td>\n",
       "      <td>9.666667</td>\n",
       "      <td>1</td>\n",
       "      <td>92</td>\n",
       "      <td>92</td>\n",
       "      <td>0</td>\n",
       "    </tr>\n",
       "    <tr>\n",
       "      <th>29092</th>\n",
       "      <td>dolce stefania 2007 bonarda (mendoza)</td>\n",
       "      <td>bonarda</td>\n",
       "      <td>unknown</td>\n",
       "      <td>argentina</td>\n",
       "      <td>mendoza province</td>\n",
       "      <td>10.0</td>\n",
       "      <td>dolce stefania</td>\n",
       "      <td>90.0</td>\n",
       "      <td>9.000000</td>\n",
       "      <td>2</td>\n",
       "      <td>91</td>\n",
       "      <td>92</td>\n",
       "      <td>0</td>\n",
       "    </tr>\n",
       "    <tr>\n",
       "      <th>1987</th>\n",
       "      <td>alma del sur 2009 colección bonarda (mendoza)</td>\n",
       "      <td>bonarda</td>\n",
       "      <td>colección</td>\n",
       "      <td>argentina</td>\n",
       "      <td>mendoza province</td>\n",
       "      <td>10.0</td>\n",
       "      <td>alma del sur</td>\n",
       "      <td>89.0</td>\n",
       "      <td>8.900000</td>\n",
       "      <td>3</td>\n",
       "      <td>89</td>\n",
       "      <td>92</td>\n",
       "      <td>0</td>\n",
       "    </tr>\n",
       "    <tr>\n",
       "      <th>2419</th>\n",
       "      <td>altos las hormigas 2009 colonia las liebres bo...</td>\n",
       "      <td>bonarda</td>\n",
       "      <td>colonia las liebres</td>\n",
       "      <td>argentina</td>\n",
       "      <td>mendoza province</td>\n",
       "      <td>10.0</td>\n",
       "      <td>altos las hormigas</td>\n",
       "      <td>89.0</td>\n",
       "      <td>8.900000</td>\n",
       "      <td>4</td>\n",
       "      <td>90</td>\n",
       "      <td>92</td>\n",
       "      <td>0</td>\n",
       "    </tr>\n",
       "    <tr>\n",
       "      <th>89829</th>\n",
       "      <td>tilia 2014 bonarda (mendoza)</td>\n",
       "      <td>bonarda</td>\n",
       "      <td>unknown</td>\n",
       "      <td>argentina</td>\n",
       "      <td>mendoza province</td>\n",
       "      <td>10.0</td>\n",
       "      <td>tilia</td>\n",
       "      <td>88.0</td>\n",
       "      <td>8.800000</td>\n",
       "      <td>5</td>\n",
       "      <td>88</td>\n",
       "      <td>92</td>\n",
       "      <td>0</td>\n",
       "    </tr>\n",
       "  </tbody>\n",
       "</table>\n",
       "</div>"
      ],
      "text/plain": [
       "                                                   title  variety  \\\n",
       "35885       espiritu de argentina 2008 bonarda (mendoza)  bonarda   \n",
       "29092              dolce stefania 2007 bonarda (mendoza)  bonarda   \n",
       "1987       alma del sur 2009 colección bonarda (mendoza)  bonarda   \n",
       "2419   altos las hormigas 2009 colonia las liebres bo...  bonarda   \n",
       "89829                       tilia 2014 bonarda (mendoza)  bonarda   \n",
       "\n",
       "               designation    country          province  price  \\\n",
       "35885              unknown  argentina  mendoza province    9.0   \n",
       "29092              unknown  argentina  mendoza province   10.0   \n",
       "1987             colección  argentina  mendoza province   10.0   \n",
       "2419   colonia las liebres  argentina  mendoza province   10.0   \n",
       "89829              unknown  argentina  mendoza province   10.0   \n",
       "\n",
       "                      winery  points  pp_ratio  rank_ratio  rank_price  \\\n",
       "35885  espiritu de argentina    87.0  9.666667           1          92   \n",
       "29092         dolce stefania    90.0  9.000000           2          91   \n",
       "1987            alma del sur    89.0  8.900000           3          89   \n",
       "2419      altos las hormigas    89.0  8.900000           4          90   \n",
       "89829                  tilia    88.0  8.800000           5          88   \n",
       "\n",
       "       counts  class  \n",
       "35885      92      0  \n",
       "29092      92      0  \n",
       "1987       92      0  \n",
       "2419       92      0  \n",
       "89829      92      0  "
      ]
     },
     "execution_count": 30,
     "metadata": {},
     "output_type": "execute_result"
    }
   ],
   "source": [
    "df_filt2.sort_values(by=['country','province', 'variety', 'rank_ratio', 'rank_price'],\n",
    "                                      ascending=[True, True, True, True, True]).head()"
   ]
  },
  {
   "cell_type": "markdown",
   "metadata": {},
   "source": [
    "### Since we want a total of about 5'000 bottles, and df_filt2 contains about 100'000 wines, this means that we have to pick 5% of the grand total. This means that we have to select 5% of the count of the class, for every class, approximately. In order to avoid to obtain a list too big, a bottle will be chosen for the classes with less than 25 representants (4% of 25 is 1) only if the pp_ratio of some bottle is bigger than the 80th percentile."
   ]
  },
  {
   "cell_type": "code",
   "execution_count": 31,
   "metadata": {},
   "outputs": [],
   "source": [
    "perc2 = 80\n",
    "p_val = np.percentile(df['pp_ratio'], q=perc2)\n",
    "cols = ['title','variety','designation','country','province','price','winery','points']\n",
    "big_list = pd.DataFrame(columns=cols)\n",
    "for clas in df_filt2['class'].unique():\n",
    "    df_tmp = df_filt2[df_filt2['class'] == clas]\n",
    "    df_tmp.sort_values(by=['rank_price'], inplace=True)\n",
    "    df_tmp.reset_index(drop=True, inplace=True)\n",
    "    num = len(df_tmp)\n",
    "    if num >= 25:\n",
    "        # total number of bottles to select in this class\n",
    "        n_bot = int(num / 25) + 1\n",
    "        # add bottles with 'rank_ratio' == 1 for the large classes as first bottle\n",
    "        idx = df_tmp[df_tmp['rank_ratio'] == 1].index[0]\n",
    "        # create index list of all bottles, equally spaced in the price space\n",
    "        idx_list = [(idx+25*i)%num for i in range(n_bot)]\n",
    "        list_df = df_tmp.iloc[idx_list, :]\n",
    "            \n",
    "    else:\n",
    "        # for the small classes pick only the rank1 bottle if the pp_ratio is above the 80th percentile\n",
    "        list_df = df_tmp[(df_tmp['pp_ratio'] > p_val) & (df_tmp['rank_ratio'] == 1)]\n",
    "        \n",
    "    list_df = list_df[cols]\n",
    "    big_list = pd.concat([big_list, list_df], axis=0)\n",
    "big_list.reset_index(drop=True, inplace=True)"
   ]
  },
  {
   "cell_type": "code",
   "execution_count": 32,
   "metadata": {},
   "outputs": [
    {
     "data": {
      "text/html": [
       "<div>\n",
       "<style scoped>\n",
       "    .dataframe tbody tr th:only-of-type {\n",
       "        vertical-align: middle;\n",
       "    }\n",
       "\n",
       "    .dataframe tbody tr th {\n",
       "        vertical-align: top;\n",
       "    }\n",
       "\n",
       "    .dataframe thead th {\n",
       "        text-align: right;\n",
       "    }\n",
       "</style>\n",
       "<table border=\"1\" class=\"dataframe\">\n",
       "  <thead>\n",
       "    <tr style=\"text-align: right;\">\n",
       "      <th></th>\n",
       "      <th>title</th>\n",
       "      <th>variety</th>\n",
       "      <th>designation</th>\n",
       "      <th>country</th>\n",
       "      <th>province</th>\n",
       "      <th>price</th>\n",
       "      <th>winery</th>\n",
       "      <th>points</th>\n",
       "    </tr>\n",
       "  </thead>\n",
       "  <tbody>\n",
       "    <tr>\n",
       "      <th>0</th>\n",
       "      <td>raimat 2007 castell de raimat cabernet sauvign...</td>\n",
       "      <td>cabernet sauvignon</td>\n",
       "      <td>castell de raimat</td>\n",
       "      <td>spain</td>\n",
       "      <td>catalonia</td>\n",
       "      <td>10.0</td>\n",
       "      <td>raimat</td>\n",
       "      <td>82.0</td>\n",
       "    </tr>\n",
       "    <tr>\n",
       "      <th>1</th>\n",
       "      <td>la granja 360 nv brut sparkling (cava)</td>\n",
       "      <td>sparkling blend</td>\n",
       "      <td>brut</td>\n",
       "      <td>spain</td>\n",
       "      <td>catalonia</td>\n",
       "      <td>7.0</td>\n",
       "      <td>la granja 360</td>\n",
       "      <td>84.0</td>\n",
       "    </tr>\n",
       "    <tr>\n",
       "      <th>2</th>\n",
       "      <td>maria casanovas 2014 brut nature gran reserva ...</td>\n",
       "      <td>sparkling blend</td>\n",
       "      <td>brut nature gran reserva</td>\n",
       "      <td>spain</td>\n",
       "      <td>catalonia</td>\n",
       "      <td>37.0</td>\n",
       "      <td>maria casanovas</td>\n",
       "      <td>90.0</td>\n",
       "    </tr>\n",
       "    <tr>\n",
       "      <th>3</th>\n",
       "      <td>llopart 2011 panoramic reserva imperial sparkl...</td>\n",
       "      <td>sparkling blend</td>\n",
       "      <td>panoramic reserva imperial</td>\n",
       "      <td>spain</td>\n",
       "      <td>catalonia</td>\n",
       "      <td>29.0</td>\n",
       "      <td>llopart</td>\n",
       "      <td>91.0</td>\n",
       "    </tr>\n",
       "    <tr>\n",
       "      <th>4</th>\n",
       "      <td>albet i noya 2013 brut natural reserva sparkli...</td>\n",
       "      <td>sparkling blend</td>\n",
       "      <td>brut natural reserva</td>\n",
       "      <td>spain</td>\n",
       "      <td>catalonia</td>\n",
       "      <td>25.0</td>\n",
       "      <td>albet i noya</td>\n",
       "      <td>90.0</td>\n",
       "    </tr>\n",
       "  </tbody>\n",
       "</table>\n",
       "</div>"
      ],
      "text/plain": [
       "                                               title             variety  \\\n",
       "0  raimat 2007 castell de raimat cabernet sauvign...  cabernet sauvignon   \n",
       "1             la granja 360 nv brut sparkling (cava)     sparkling blend   \n",
       "2  maria casanovas 2014 brut nature gran reserva ...     sparkling blend   \n",
       "3  llopart 2011 panoramic reserva imperial sparkl...     sparkling blend   \n",
       "4  albet i noya 2013 brut natural reserva sparkli...     sparkling blend   \n",
       "\n",
       "                  designation country   province  price           winery  \\\n",
       "0           castell de raimat   spain  catalonia   10.0           raimat   \n",
       "1                        brut   spain  catalonia    7.0    la granja 360   \n",
       "2    brut nature gran reserva   spain  catalonia   37.0  maria casanovas   \n",
       "3  panoramic reserva imperial   spain  catalonia   29.0          llopart   \n",
       "4        brut natural reserva   spain  catalonia   25.0     albet i noya   \n",
       "\n",
       "   points  \n",
       "0    82.0  \n",
       "1    84.0  \n",
       "2    90.0  \n",
       "3    91.0  \n",
       "4    90.0  "
      ]
     },
     "execution_count": 32,
     "metadata": {},
     "output_type": "execute_result"
    }
   ],
   "source": [
    "big_list.head()"
   ]
  },
  {
   "cell_type": "code",
   "execution_count": 33,
   "metadata": {},
   "outputs": [
    {
     "data": {
      "text/plain": [
       "(5273, 8)"
      ]
     },
     "execution_count": 33,
     "metadata": {},
     "output_type": "execute_result"
    }
   ],
   "source": [
    "big_list.shape"
   ]
  }
 ],
 "metadata": {
  "kernelspec": {
   "display_name": "Python 3",
   "language": "python",
   "name": "python3"
  },
  "language_info": {
   "codemirror_mode": {
    "name": "ipython",
    "version": 3
   },
   "file_extension": ".py",
   "mimetype": "text/x-python",
   "name": "python",
   "nbconvert_exporter": "python",
   "pygments_lexer": "ipython3",
   "version": "3.7.4"
  }
 },
 "nbformat": 4,
 "nbformat_minor": 4
}
